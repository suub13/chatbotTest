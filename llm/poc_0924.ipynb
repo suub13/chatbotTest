{
 "cells": [
  {
   "cell_type": "code",
   "execution_count": 2,
   "metadata": {},
   "outputs": [],
   "source": [
    "import os\n",
    "import dotenv\n",
    "import openai\n",
    "\n",
    "dotenv.load_dotenv()\n",
    "openai.api_key = os.getenv('OPENAI_API_KEY')\n",
    "\n",
    "langchain_hub_api_key = os.getenv('LANGCHAIN_HUB_API_KEY')"
   ]
  },
  {
   "cell_type": "code",
   "execution_count": 3,
   "metadata": {},
   "outputs": [],
   "source": [
    "from react_agentbarrack import ReActAgentBarrack\n",
    "\n",
    "# max_iterations=10, max_execution_time=20\n",
    "hypothesis01 = ' 그리고 한국어로 대답해야 하고 반드시 서술형식으로 한줄로 대답해야 합니다.'\n",
    "\n",
    "# max_iterations=8, max_execution_time=15\n",
    "hypothesis02 = ' 그리고 한국어로 대답해야 하고 근거법령에 대한 링크도 반드시 알려줘야 합니다.'\n",
    "\n",
    "# max_iterations=10, max_execution_time=20\n",
    "hypothesis03 = ' 그리고 한국어로 대답해야 하고 반드시 서술형식으로 한줄로 대답해야 합니다. 또한 내가 놓쳤을 수 있는 관련된 추가 정보나 고려사항에 대해 한두가지 질문을 해줘야 합니다.'\n",
    "\n",
    "\n",
    "agent = ReActAgentBarrack(\n",
    "    extra_details=hypothesis02,\n",
    "    verbose = True,\n",
    ")\n",
    "\n",
    "agent.make_tool_from_DocRetriever(\n",
    "    doc_path='../assets/qna.txt',\n",
    "    name='qna-relevant_statutory_provisions-tool',\n",
    "    description='민원 질문에 대한 해결방법과 근거법령을 제시해야할 때 유용합니다.',\n",
    "    )\n",
    "\n",
    "agent.make_tool_from_DocRetriever(\n",
    "    doc_path='../assets/link.txt',\n",
    "    name='statute_links-tool',\n",
    "    description='근거법령의 링크를 제시해야할 때 유용합니다.',\n",
    "    )\n",
    "\n",
    "agent.make_agent(\n",
    "    max_iterations=10,\n",
    "    max_execution_time=20,\n",
    "    # max_iterations=8,\n",
    "    # max_execution_time=15,\n",
    ")"
   ]
  },
  {
   "cell_type": "code",
   "execution_count": 4,
   "metadata": {},
   "outputs": [
    {
     "name": "stderr",
     "output_type": "stream",
     "text": [
      "Error in StdOutCallbackHandler.on_chain_start callback: AttributeError(\"'NoneType' object has no attribute 'get'\")\n"
     ]
    },
    {
     "name": "stdout",
     "output_type": "stream",
     "text": [
      "repetition_count:  0 \tStart time:  2024-09-24 17:21:35\n",
      "\u001b[32;1m\u001b[1;3mThought: 여권을 잃어버렸을 때의 해결방법과 관련 법령을 찾아야 합니다.\n",
      "Action: qna-relevant_statutory_provisions-tool\n",
      "Action Input: \"여권 분실 시 해결방법과 관련 법령\"\u001b[0m\u001b[36;1m\u001b[1;3m33. 여권 분실 신고\n",
      "질문: 여권을 잃어버렸어요. 가장 먼저 어떤 것을 해야하나요?\n",
      "질문: 여권을 잃어버려서 분실 신고를 하고싶어요.\n",
      "질문: 여권이 없어진것 같아요.\n",
      "대답:\n",
      "여권을 분실, 잃어버렸을 하였을 경우 가장 먼저 <여권 분실 신고>를 신청해야하고 이후 여권이 필요한 경우 <여권 발급>을 신청해야합니다.\n",
      "여권사무대행기관 직접 방문 또는 정부24/재외동포365를 통해 온라인 신고하실 수 있습니다. 다만, 미성년자는 정부24를 통한 온라인 신청이 불가능하며 법정대리인 동의서가 필요합니다.\n",
      "신청서: 신청서 없음\n",
      "신청링크:\n",
      "https://www.gov.kr/portal/service/serviceInfo/126200000028\n",
      "근거법령:\n",
      "여권법 제13조\n",
      "\n",
      "근거법령:\n",
      "주민등록법 제8조\n",
      "주민등록법 제13조\n",
      "주민등록법 시행령 제13조\n",
      "주민등록법 시행령 제20조\n",
      "\n",
      "근거법령: \n",
      "주민등록법 제10조의3\n",
      "주민등록법 시행령 제17조\n",
      "주민등록법 시행규칙 제4조의3\n",
      "\n",
      "근거법령: \n",
      "주민등록법 제29조\n",
      "주민등록법 시행령 제47조의2\n",
      "주민등록법 시행규칙 제13조의2\u001b[0m\u001b[32;1m\u001b[1;3mFinal Answer: 여권을 분실한 경우 가장 먼저 여권 분실 신고를 해야 하며, 이후 여권이 필요한 경우 여권 발급을 신청해야 합니다.\n",
      "\n",
      "추가 고려사항: 여권 분실 신고를 할 때 필요한 서류나 절차에 대해 알고 계신가요? 여권 발급 신청 시 추가로 필요한 서류가 있는지 확인하셨나요?\u001b[0m\n",
      "\n",
      "\u001b[1m> Finished chain.\u001b[0m\n",
      "repetition_count:  0 \tStart time:  2024-09-24 17:21:38 \tElapsed time: 3.50\n",
      "여권을 분실한 경우 가장 먼저 여권 분실 신고를 해야 하며, 이후 여권이 필요한 경우 여권 발급을 신청해야 합니다.\n",
      "\n",
      "추가 고려사항: 여권 분실 신고를 할 때 필요한 서류나 절차에 대해 알고 계신가요? 여권 발급 신청 시 추가로 필요한 서류가 있는지 확인하셨나요?\n"
     ]
    }
   ],
   "source": [
    "# rt = agent.invoke_agent('여행할 수 없는 나라를 가고 싶은 경우 어떻게 해야해?')\n",
    "rt = agent.invoke_agent('여권을 잃어버렸어')\n",
    "print(rt)"
   ]
  },
  {
   "cell_type": "code",
   "execution_count": 5,
   "metadata": {},
   "outputs": [
    {
     "name": "stderr",
     "output_type": "stream",
     "text": [
      "Error in StdOutCallbackHandler.on_chain_start callback: AttributeError(\"'NoneType' object has no attribute 'get'\")\n"
     ]
    },
    {
     "name": "stdout",
     "output_type": "stream",
     "text": [
      "repetition_count:  0 \tStart time:  2024-09-24 17:22:08\n",
      "\u001b[32;1m\u001b[1;3mAction: qna-relevant_statutory_provisions-tool\n",
      "Action Input: \"근거 법령에 대해 알려줘\"\u001b[0m\u001b[36;1m\u001b[1;3m근거법령: \n",
      "주민등록법 제10조의3\n",
      "주민등록법 시행령 제17조\n",
      "주민등록법 시행규칙 제4조의3\n",
      "\n",
      "근거법령: \n",
      "주민등록법 제29조\n",
      "주민등록법 시행령 제47조의2\n",
      "주민등록법 시행규칙 제13조의2\n",
      "\n",
      "근거법령:\n",
      "주민등록법 제8조\n",
      "주민등록법 제13조\n",
      "주민등록법 시행령 제13조\n",
      "주민등록법 시행령 제20조\n",
      "\n",
      "근거법령: \n",
      "주민등록법 제10조의3\n",
      "주민등록법 시행령 제17조의4\n",
      "주민등록법 시행규칙 제4조의3\u001b[0m\u001b[32;1m\u001b[1;3m근거법령은 주민등록법 제10조의3, 주민등록법 시행령 제17조, 주민등록법 시행규칙 제4조의3, 주민등록법 제29조, 주민등록법 시행령 제47조의2, 주민등록법 시행규칙 제13조의2, 주민등록법 제8조, 주민등록법 제13조, 주민등록법 시행령 제13조, 주민등록법 시행령 제20조, 주민등록법 제10조의3, 주민등록법 시행령 제17조의4, 주민등록법 시행규칙 제4조의3입니다. 추가적으로, 이 법령들이 적용되는 구체적인 상황이나 예외사항이 있는지 확인해 보셨나요? 그리고 관련된 최신 개정사항이 있는지 검토해 보셨나요?\u001b[0mInvalid Format: Missing 'Action:' after 'Thought:\u001b[32;1m\u001b[1;3mAction: qna-relevant_statutory_provisions-tool\n",
      "Action Input: \"근거 법령에 대해 알려줘\"\u001b[0m\u001b[36;1m\u001b[1;3m근거법령: \n",
      "주민등록법 제10조의3\n",
      "주민등록법 시행령 제17조\n",
      "주민등록법 시행규칙 제4조의3\n",
      "\n",
      "근거법령: \n",
      "주민등록법 제29조\n",
      "주민등록법 시행령 제47조의2\n",
      "주민등록법 시행규칙 제13조의2\n",
      "\n",
      "근거법령:\n",
      "주민등록법 제8조\n",
      "주민등록법 제13조\n",
      "주민등록법 시행령 제13조\n",
      "주민등록법 시행령 제20조\n",
      "\n",
      "근거법령: \n",
      "주민등록법 제10조의3\n",
      "주민등록법 시행령 제17조의4\n",
      "주민등록법 시행규칙 제4조의3\u001b[0m\u001b[32;1m\u001b[1;3mFinal Answer: 근거법령은 주민등록법 제10조의3, 주민등록법 시행령 제17조, 주민등록법 시행규칙 제4조의3, 주민등록법 제29조, 주민등록법 시행령 제47조의2, 주민등록법 시행규칙 제13조의2, 주민등록법 제8조, 주민등록법 제13조, 주민등록법 시행령 제13조, 주민등록법 시행령 제20조, 주민등록법 제10조의3, 주민등록법 시행령 제17조의4, 주민등록법 시행규칙 제4조의3입니다. 추가적으로, 이 법령들이 적용되는 구체적인 상황이나 예외사항이 있는지 확인해 보셨나요? 그리고 관련된 최신 개정사항이 있는지 검토해 보셨나요?\u001b[0m\n",
      "\n",
      "\u001b[1m> Finished chain.\u001b[0m\n",
      "repetition_count:  0 \tStart time:  2024-09-24 17:22:16 \tElapsed time: 8.00\n",
      "근거법령은 주민등록법 제10조의3, 주민등록법 시행령 제17조, 주민등록법 시행규칙 제4조의3, 주민등록법 제29조, 주민등록법 시행령 제47조의2, 주민등록법 시행규칙 제13조의2, 주민등록법 제8조, 주민등록법 제13조, 주민등록법 시행령 제13조, 주민등록법 시행령 제20조, 주민등록법 제10조의3, 주민등록법 시행령 제17조의4, 주민등록법 시행규칙 제4조의3입니다. 추가적으로, 이 법령들이 적용되는 구체적인 상황이나 예외사항이 있는지 확인해 보셨나요? 그리고 관련된 최신 개정사항이 있는지 검토해 보셨나요?\n"
     ]
    }
   ],
   "source": [
    "# rt = agent.invoke_agent('내가 아닌 대리인이 신청할 경우 어떻게 해야해?')\n",
    "rt = agent.invoke_agent('근거 법령에 대해 알려줘.')\n",
    "print(rt)"
   ]
  },
  {
   "cell_type": "code",
   "execution_count": 4,
   "metadata": {},
   "outputs": [
    {
     "name": "stdout",
     "output_type": "stream",
     "text": [
      "repetition_count:  0 \tStart time:  2024-09-24 14:05:03\n",
      "repetition_count:  0 \tStart time:  2024-09-24 14:05:17 \tElapsed time: 13.95\n",
      "It seems there is a misunderstanding. To provide a relevant answer and consider additional information or considerations, I need a specific question or topic. Please provide a detailed question or context so I can assist you effectively.\n"
     ]
    }
   ],
   "source": [
    "rt = agent.invoke_agent('알려줘서 고마워.')\n",
    "print(rt)"
   ]
  },
  {
   "cell_type": "code",
   "execution_count": null,
   "metadata": {},
   "outputs": [],
   "source": []
  },
  {
   "cell_type": "code",
   "execution_count": null,
   "metadata": {},
   "outputs": [],
   "source": []
  },
  {
   "cell_type": "code",
   "execution_count": null,
   "metadata": {},
   "outputs": [],
   "source": []
  }
 ],
 "metadata": {
  "kernelspec": {
   "display_name": ".venv",
   "language": "python",
   "name": "python3"
  },
  "language_info": {
   "codemirror_mode": {
    "name": "ipython",
    "version": 3
   },
   "file_extension": ".py",
   "mimetype": "text/x-python",
   "name": "python",
   "nbconvert_exporter": "python",
   "pygments_lexer": "ipython3",
   "version": "3.10.11"
  }
 },
 "nbformat": 4,
 "nbformat_minor": 2
}
