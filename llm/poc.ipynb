{
 "cells": [
  {
   "cell_type": "code",
   "execution_count": 1,
   "metadata": {},
   "outputs": [
    {
     "name": "stdout",
     "output_type": "stream",
     "text": [
      "Proceed with the provided preset:  PRESET_C\n"
     ]
    }
   ],
   "source": [
    "from react_agentbarrack import ReActAgentBarrack\n",
    "import presets\n",
    "\n",
    "agent = ReActAgentBarrack(\n",
    "    presets=presets.PRESET_C,\n",
    "    verbose = False,\n",
    ")\n",
    "\n",
    "agent.make_tool_from_DocRetriever(\n",
    "    doc_path='/Users/nyagu/Documents/workSpace/PoC/assets/qna.txt',\n",
    "    name='qna-relevant_statutory_provisions-tool',\n",
    "    description='민원 질문에 대한 해결방법과 근거법령을 제시해야할 때 유용합니다.',\n",
    "    )\n",
    "\n",
    "agent.make_tool_from_DocRetriever(\n",
    "    doc_path='/Users/nyagu/Documents/workSpace/PoC/assets/link.txt',\n",
    "    name='statute_links-tool',\n",
    "    description='근거법령의 링크를 제시해야할 때 유용합니다.',\n",
    "    )\n",
    "\n",
    "agent.make_agent()"
   ]
  },
  {
   "cell_type": "code",
   "execution_count": 2,
   "metadata": {},
   "outputs": [
    {
     "name": "stdout",
     "output_type": "stream",
     "text": [
      "repetition_count:  0 \tStart time:  2024-09-25 14:21:34\n",
      "repetition_count:  0 \tStart time:  2024-09-25 14:21:37 \tElapsed time: 2.42\n",
      "이태윤 씨, 여권을 잃어버렸다면 가장 먼저 여권 분실 신고를 해야 합니다. 여권사무대행기관을 직접 방문하거나 정부24/재외동포365를 통해 온라인으로 신고할 수 있습니다. 관련 법령은 여권법 제13조입니다. 추가로 궁금한 사항이 있으면 말씀해 주세요.\n"
     ]
    }
   ],
   "source": [
    "# rt = agent.invoke_agent('여행할 수 없는 나라를 가고 싶은 경우 어떻게 해야해?')\n",
    "rt = agent.invoke_agent('나의 이름은 이태윤이고 여권을 잃어버렸어')\n",
    "print(rt)"
   ]
  },
  {
   "cell_type": "code",
   "execution_count": 3,
   "metadata": {},
   "outputs": [
    {
     "name": "stdout",
     "output_type": "stream",
     "text": [
      "repetition_count:  0 \tStart time:  2024-09-25 14:21:42\n",
      "repetition_count:  0 \tStart time:  2024-09-25 14:22:00 \tElapsed time: 18.16\n",
      "repetition_count:  1 \tStart time:  2024-09-25 14:22:00\n",
      "repetition_count:  1 \tStart time:  2024-09-25 14:22:04 \tElapsed time: 3.57\n",
      "여권 분실 신고 후 재발급을 위해서는 여권사무대행기관을 직접 방문하거나 정부24/재외동포365를 통해 온라인으로 신청할 수 있으며, 미성년자는 법정대리인 동의서가 필요합니다. 관련 법령은 여권법 제13조입니다. 추가로 궁금한 사항이 있으면 말씀해 주세요.\n"
     ]
    }
   ],
   "source": [
    "rt = agent.invoke_agent('분실 신고 후 재발급 절차는 어떻게 돼?')\n",
    "print(rt)"
   ]
  },
  {
   "cell_type": "code",
   "execution_count": 4,
   "metadata": {},
   "outputs": [
    {
     "name": "stdout",
     "output_type": "stream",
     "text": [
      "repetition_count:  0 \tStart time:  2024-09-25 14:22:19\n",
      "repetition_count:  0 \tStart time:  2024-09-25 14:22:21 \tElapsed time: 2.04\n",
      "여권 재발급을 위해 필요한 서류는 여권 재발급 신청서, 신분증, 여권용 사진 1매, 분실신고서(분실 시) 등이 있으며, 미성년자의 경우 법정대리인 동의서가 추가로 필요합니다.\n"
     ]
    }
   ],
   "source": [
    "rt = agent.invoke_agent('필요한 서류가 있을까?')\n",
    "print(rt)"
   ]
  },
  {
   "cell_type": "code",
   "execution_count": 5,
   "metadata": {},
   "outputs": [
    {
     "name": "stdout",
     "output_type": "stream",
     "text": [
      "repetition_count:  0 \tStart time:  2024-09-25 14:22:28\n",
      "repetition_count:  0 \tStart time:  2024-09-25 14:22:44 \tElapsed time: 16.32\n",
      "repetition_count:  1 \tStart time:  2024-09-25 14:22:44\n",
      "repetition_count:  1 \tStart time:  2024-09-25 14:23:01 \tElapsed time: 16.65\n",
      "repetition_count:  2 \tStart time:  2024-09-25 14:23:01\n",
      "repetition_count:  2 \tStart time:  2024-09-25 14:23:04 \tElapsed time: 3.50\n",
      "대리인이 여권 재발급을 신청할 경우 여권발급신청서, 긴급여권 발급신청 사유서, 법정대리인 동의서, 로마자성명 변경 신청서 등이 필요하며, 관련 법령은 여권법 제9조, 제11조, 제14조 및 여권법 시행령과 시행규칙입니다. 추가로 궁금한 사항이 있으면 말씀해 주세요.\n"
     ]
    }
   ],
   "source": [
    "rt = agent.invoke_agent('내가 아닌 대리인이 신청할 경우 어떻게 해야해?')\n",
    "print(rt)"
   ]
  },
  {
   "cell_type": "code",
   "execution_count": 6,
   "metadata": {},
   "outputs": [
    {
     "name": "stdout",
     "output_type": "stream",
     "text": [
      "repetition_count:  0 \tStart time:  2024-09-25 14:30:58\n",
      "repetition_count:  0 \tStart time:  2024-09-25 14:30:59 \tElapsed time: 0.91\n",
      "천만에요, 이태윤 씨. 추가로 궁금한 사항이 있으면 언제든지 말씀해 주세요.\n"
     ]
    }
   ],
   "source": [
    "rt = agent.invoke_agent('알려줘서 고마워')\n",
    "print(rt)"
   ]
  },
  {
   "cell_type": "code",
   "execution_count": null,
   "metadata": {},
   "outputs": [],
   "source": [
    "agent.memory.load_memory_variables({})[\"chat_history\"]"
   ]
  },
  {
   "cell_type": "code",
   "execution_count": null,
   "metadata": {},
   "outputs": [],
   "source": []
  }
 ],
 "metadata": {
  "kernelspec": {
   "display_name": ".venv",
   "language": "python",
   "name": "python3"
  },
  "language_info": {
   "codemirror_mode": {
    "name": "ipython",
    "version": 3
   },
   "file_extension": ".py",
   "mimetype": "text/x-python",
   "name": "python",
   "nbconvert_exporter": "python",
   "pygments_lexer": "ipython3",
   "version": "3.11.6"
  }
 },
 "nbformat": 4,
 "nbformat_minor": 2
}
