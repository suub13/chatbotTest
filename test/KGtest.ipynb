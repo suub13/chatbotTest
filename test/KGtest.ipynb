{
 "cells": [
  {
   "cell_type": "code",
   "execution_count": 21,
   "metadata": {},
   "outputs": [],
   "source": [
    "from langchain_experimental.graph_transformers import LLMGraphTransformer\n",
    "from langchain_community.graphs import Neo4jGraph\n",
    "from langchain_openai import ChatOpenAI\n",
    "from langchain_core.documents import Document\n",
    "\n",
    "import openai\n",
    "import os\n",
    "import dotenv"
   ]
  },
  {
   "cell_type": "code",
   "execution_count": 22,
   "metadata": {},
   "outputs": [],
   "source": [
    "dotenv.load_dotenv()\n",
    "openai.api_key = os.getenv('OPENAI_API_KEY')"
   ]
  },
  {
   "cell_type": "code",
   "execution_count": 23,
   "metadata": {},
   "outputs": [],
   "source": [
    "llm = ChatOpenAI(temperature=0, model=\"gpt-4\")\n",
    "\n",
    "# LLMGraphTransformer를 사용하여 지식 그래프 추출\n",
    "llm_transformer = LLMGraphTransformer(llm=llm)\n",
    "text = \"\"\" Marie Curie, was a Polish and naturalised-French physicist and chemist who conducted \n",
    "pioneering research on radioactivity. She was the first woman to win a Nobel Prize, the first \n",
    "person to win a Nobel Prize twice, and the only person to win a Nobel Prize in two scientific fields. \n",
    "Her husband, Pierre Curie, was a co-winner of her first Nobel Prize, making them the first-ever \n",
    "married couple to win the Nobel Prize and launching the Curie family legacy of five Nobel Prizes. \n",
    "She was, in 1906, the first woman to become a professor at the University of Paris. \"\"\"\n",
    "\n",
    "documents = [Document(page_content=text)]\n",
    "graph_documents = llm_transformer.convert_to_graph_documents(documents)"
   ]
  },
  {
   "cell_type": "code",
   "execution_count": 24,
   "metadata": {},
   "outputs": [
    {
     "name": "stdout",
     "output_type": "stream",
     "text": [
      "Nodes:[Node(id='Marie Curie', type='Person'), Node(id='Pierre Curie', type='Person'), Node(id='Nobel Prize', type='Award'), Node(id='University Of Paris', type='Organization'), Node(id='Polish', type='Nationality'), Node(id='French', type='Nationality'), Node(id='Physicist', type='Profession'), Node(id='Chemist', type='Profession'), Node(id='Radioactivity', type='Research area'), Node(id='Professor', type='Profession')]\n",
      "Relationships:[Relationship(source=Node(id='Marie Curie', type='Person'), target=Node(id='Polish', type='Nationality'), type='HAS_NATIONALITY'), Relationship(source=Node(id='Marie Curie', type='Person'), target=Node(id='French', type='Nationality'), type='HAS_NATIONALITY'), Relationship(source=Node(id='Marie Curie', type='Person'), target=Node(id='Physicist', type='Profession'), type='HAS_PROFESSION'), Relationship(source=Node(id='Marie Curie', type='Person'), target=Node(id='Chemist', type='Profession'), type='HAS_PROFESSION'), Relationship(source=Node(id='Marie Curie', type='Person'), target=Node(id='Radioactivity', type='Research area'), type='CONDUCTED_RESEARCH'), Relationship(source=Node(id='Marie Curie', type='Person'), target=Node(id='Nobel Prize', type='Award'), type='WON_AWARD'), Relationship(source=Node(id='Marie Curie', type='Person'), target=Node(id='University Of Paris', type='Organization'), type='WORKED_AT'), Relationship(source=Node(id='Marie Curie', type='Person'), target=Node(id='Professor', type='Profession'), type='HAS_PROFESSION'), Relationship(source=Node(id='Pierre Curie', type='Person'), target=Node(id='Nobel Prize', type='Award'), type='WON_AWARD')]\n"
     ]
    }
   ],
   "source": [
    "print(f\"Nodes:{graph_documents[0].nodes}\")\n",
    "print(f\"Relationships:{graph_documents[0].relationships}\")"
   ]
  },
  {
   "cell_type": "code",
   "execution_count": null,
   "metadata": {},
   "outputs": [],
   "source": [
    "NEO4J_URI=os.getenv('NEO4J_URI') \n",
    "NEO4J_USERNAME=os.getenv('NEO4J_USERNAME')\n",
    "NEO4J_PASSWORD=os.getenv('NEO4J_PASSWORD')\n",
    "\n",
    "knowledge_graph = Neo4jGraph(url=NEO4J_URI, username=NEO4J_USERNAME, password=NEO4J_PASSWORD)\n",
    "knowledge_graph.add_graph_documents(graph_documents)"
   ]
  },
  {
   "cell_type": "code",
   "execution_count": 20,
   "metadata": {},
   "outputs": [],
   "source": [
    "from pydantic import BaseModel, Field\n",
    "from typing import List\n",
    "from langchain.prompts import ChatPromptTemplate\n",
    "from langchain_core.output_parsers.json import JsonOutputParser\n",
    "from langchain_core.runnables import RunnablePassthrough, RunnableLambda\n"
   ]
  },
  {
   "cell_type": "code",
   "execution_count": 14,
   "metadata": {},
   "outputs": [],
   "source": [
    "QUERY_ENTITY_EXTRACT_PROMPT = ( \"A question is provided below. Given the question, extract up to 5 \" \"entity names and types from the text. Focus on extracting the key entities \" \"that we can use to best lookup answers to the question. Avoid stopwords.\\n\" \"---------------------\\n\" \"{question}\\n\" \"---------------------\\n\" \"{format_instructions}\\n\" ) \n",
    "def extract_entities(llm): \n",
    "    # prompt = ChatPromptTemplate.from_messages([keyword_extraction_prompt]) \n",
    "    \n",
    "    class SimpleNode(BaseModel): \n",
    "        \"\"\"Represents a node in a graph with associated properties.\"\"\" \n",
    "        id: str = Field(description=\"Name or human-readable unique identifier.\") \n",
    "        type: str = Field(\"Person\", description=\"The type or label of the node.\") \n",
    "    \n",
    "    class SimpleNodeList(BaseModel): \n",
    "        \"\"\"Represents a list of simple nodes.\"\"\" \n",
    "        nodes: List[SimpleNode] \n",
    "        \n",
    "    output_parser = JsonOutputParser(pydantic_object=graph_documents[0].nodes)  \n",
    "    return ( RunnablePassthrough.assign( format_instructions=lambda _: output_parser.get_format_instructions(), ) | ChatPromptTemplate.from_messages([QUERY_ENTITY_EXTRACT_PROMPT]) | llm | JsonOutputParser | RunnableLambda( lambda node_list: [(n[\"id\"], n[\"type\"]) for n in node_list[\"nodes\"]]) )"
   ]
  },
  {
   "cell_type": "code",
   "execution_count": 16,
   "metadata": {},
   "outputs": [],
   "source": [
    "from pydantic import BaseModel, Field\n",
    "from typing import List\n",
    "from langchain.prompts import ChatPromptTemplate\n",
    "from langchain_core.output_parsers.json import JsonOutputParser\n",
    "from langchain_core.runnables import RunnablePassthrough, RunnableLambda\n",
    "\n",
    "# Define the prompt template\n",
    "QUERY_ENTITY_EXTRACT_PROMPT = (\n",
    "    \"A question is provided below. Given the question, extract up to 5 \"\n",
    "    \"entity names and types from the text. Focus on extracting the key entities \"\n",
    "    \"that we can use to best lookup answers to the question. Avoid stopwords.\\n\"\n",
    "    \"---------------------\\n\"\n",
    "    \"{question}\\n\"\n",
    "    \"---------------------\\n\"\n",
    "    \"{format_instructions}\\n\"\n",
    ")\n",
    "\n",
    "# Define the data models\n",
    "class SimpleNode(BaseModel):\n",
    "    \"\"\"Represents a node in a graph with associated properties.\"\"\"\n",
    "    id: str = Field(description=\"Name or human-readable unique identifier.\")\n",
    "    type: str = Field(\"Person\", description=\"The type or label of the node.\")\n",
    "\n",
    "class SimpleNodeList(BaseModel):\n",
    "    \"\"\"Represents a list of simple nodes.\"\"\"\n",
    "    nodes: List[SimpleNode]\n",
    "\n",
    "# Define the function to extract entities\n",
    "def extract_entities(llm):\n",
    "    # Create an output parser with the correct pydantic model\n",
    "    output_parser = JsonOutputParser(pydantic_object=SimpleNodeList)\n",
    "\n",
    "    return (\n",
    "        RunnablePassthrough.assign(\n",
    "            format_instructions=lambda _: output_parser.get_format_instructions(),\n",
    "        )\n",
    "        | ChatPromptTemplate.from_messages([QUERY_ENTITY_EXTRACT_PROMPT])\n",
    "        | llm\n",
    "        | output_parser\n",
    "        | RunnableLambda(lambda node_list: [(n.id, n.type) for n in node_list.nodes])\n",
    "    )\n"
   ]
  },
  {
   "cell_type": "code",
   "execution_count": 19,
   "metadata": {},
   "outputs": [
    {
     "ename": "TypeError",
     "evalue": "Expected a Runnable, callable or dict.Instead got an unsupported type: <class 'list'>",
     "output_type": "error",
     "traceback": [
      "\u001b[1;31m---------------------------------------------------------------------------\u001b[0m",
      "\u001b[1;31mTypeError\u001b[0m                                 Traceback (most recent call last)",
      "Cell \u001b[1;32mIn[19], line 3\u001b[0m\n\u001b[0;32m      1\u001b[0m \u001b[38;5;66;03m# Example showing extracted entities (nodes) \u001b[39;00m\n\u001b[1;32m----> 3\u001b[0m \u001b[43mextract_entities\u001b[49m\u001b[43m(\u001b[49m\u001b[43mgraph_documents\u001b[49m\u001b[43m[\u001b[49m\u001b[38;5;241;43m0\u001b[39;49m\u001b[43m]\u001b[49m\u001b[38;5;241;43m.\u001b[39;49m\u001b[43mnodes\u001b[49m\u001b[43m)\u001b[49m\u001b[38;5;241m.\u001b[39minvoke({ \u001b[38;5;124m\"\u001b[39m\u001b[38;5;124mquestion\u001b[39m\u001b[38;5;124m\"\u001b[39m: \u001b[38;5;124m\"\u001b[39m\u001b[38;5;124mWho is Marie Curie?\u001b[39m\u001b[38;5;124m\"\u001b[39m}) \u001b[38;5;66;03m# Output: [Marie Curie(Person)]\u001b[39;00m\n",
      "Cell \u001b[1;32mIn[16], line 34\u001b[0m, in \u001b[0;36mextract_entities\u001b[1;34m(llm)\u001b[0m\n\u001b[0;32m     29\u001b[0m \u001b[38;5;28;01mdef\u001b[39;00m \u001b[38;5;21mextract_entities\u001b[39m(llm):\n\u001b[0;32m     30\u001b[0m     \u001b[38;5;66;03m# Create an output parser with the correct pydantic model\u001b[39;00m\n\u001b[0;32m     31\u001b[0m     output_parser \u001b[38;5;241m=\u001b[39m JsonOutputParser(pydantic_object\u001b[38;5;241m=\u001b[39mSimpleNodeList)\n\u001b[0;32m     33\u001b[0m     \u001b[38;5;28;01mreturn\u001b[39;00m (\n\u001b[1;32m---> 34\u001b[0m         \u001b[43mRunnablePassthrough\u001b[49m\u001b[38;5;241;43m.\u001b[39;49m\u001b[43massign\u001b[49m\u001b[43m(\u001b[49m\n\u001b[0;32m     35\u001b[0m \u001b[43m            \u001b[49m\u001b[43mformat_instructions\u001b[49m\u001b[38;5;241;43m=\u001b[39;49m\u001b[38;5;28;43;01mlambda\u001b[39;49;00m\u001b[43m \u001b[49m\u001b[43m_\u001b[49m\u001b[43m:\u001b[49m\u001b[43m \u001b[49m\u001b[43moutput_parser\u001b[49m\u001b[38;5;241;43m.\u001b[39;49m\u001b[43mget_format_instructions\u001b[49m\u001b[43m(\u001b[49m\u001b[43m)\u001b[49m\u001b[43m,\u001b[49m\n\u001b[0;32m     36\u001b[0m \u001b[43m        \u001b[49m\u001b[43m)\u001b[49m\n\u001b[0;32m     37\u001b[0m \u001b[43m        \u001b[49m\u001b[38;5;241;43m|\u001b[39;49m\u001b[43m \u001b[49m\u001b[43mChatPromptTemplate\u001b[49m\u001b[38;5;241;43m.\u001b[39;49m\u001b[43mfrom_messages\u001b[49m\u001b[43m(\u001b[49m\u001b[43m[\u001b[49m\u001b[43mQUERY_ENTITY_EXTRACT_PROMPT\u001b[49m\u001b[43m]\u001b[49m\u001b[43m)\u001b[49m\n\u001b[0;32m     38\u001b[0m \u001b[43m        \u001b[49m\u001b[38;5;241;43m|\u001b[39;49m\u001b[43m \u001b[49m\u001b[43mllm\u001b[49m\n\u001b[0;32m     39\u001b[0m         \u001b[38;5;241m|\u001b[39m output_parser\n\u001b[0;32m     40\u001b[0m         \u001b[38;5;241m|\u001b[39m RunnableLambda(\u001b[38;5;28;01mlambda\u001b[39;00m node_list: [(n\u001b[38;5;241m.\u001b[39mid, n\u001b[38;5;241m.\u001b[39mtype) \u001b[38;5;28;01mfor\u001b[39;00m n \u001b[38;5;129;01min\u001b[39;00m node_list\u001b[38;5;241m.\u001b[39mnodes])\n\u001b[0;32m     41\u001b[0m     )\n",
      "File \u001b[1;32md:\\SandBox\\Dev\\ui\\testui\\venv\\lib\\site-packages\\langchain_core\\runnables\\base.py:2817\u001b[0m, in \u001b[0;36m__or__\u001b[1;34m(self, other)\u001b[0m\n\u001b[0;32m   2804\u001b[0m     \u001b[38;5;28;01mreturn\u001b[39;00m RunnableSequence(\n\u001b[0;32m   2805\u001b[0m         \u001b[38;5;28mself\u001b[39m\u001b[38;5;241m.\u001b[39mfirst,\n\u001b[0;32m   2806\u001b[0m         \u001b[38;5;241m*\u001b[39m\u001b[38;5;28mself\u001b[39m\u001b[38;5;241m.\u001b[39mmiddle,\n\u001b[1;32m   (...)\u001b[0m\n\u001b[0;32m   2811\u001b[0m         name\u001b[38;5;241m=\u001b[39m\u001b[38;5;28mself\u001b[39m\u001b[38;5;241m.\u001b[39mname \u001b[38;5;129;01mor\u001b[39;00m other\u001b[38;5;241m.\u001b[39mname,\n\u001b[0;32m   2812\u001b[0m     )\n\u001b[0;32m   2813\u001b[0m \u001b[38;5;28;01melse\u001b[39;00m:\n\u001b[0;32m   2814\u001b[0m     \u001b[38;5;28;01mreturn\u001b[39;00m RunnableSequence(\n\u001b[0;32m   2815\u001b[0m         \u001b[38;5;28mself\u001b[39m\u001b[38;5;241m.\u001b[39mfirst,\n\u001b[0;32m   2816\u001b[0m         \u001b[38;5;241m*\u001b[39m\u001b[38;5;28mself\u001b[39m\u001b[38;5;241m.\u001b[39mmiddle,\n\u001b[1;32m-> 2817\u001b[0m         \u001b[38;5;28mself\u001b[39m\u001b[38;5;241m.\u001b[39mlast,\n\u001b[0;32m   2818\u001b[0m         coerce_to_runnable(other),\n\u001b[0;32m   2819\u001b[0m         name\u001b[38;5;241m=\u001b[39m\u001b[38;5;28mself\u001b[39m\u001b[38;5;241m.\u001b[39mname,\n\u001b[0;32m   2820\u001b[0m     )\n",
      "File \u001b[1;32md:\\SandBox\\Dev\\ui\\testui\\venv\\lib\\site-packages\\langchain_core\\runnables\\base.py:5520\u001b[0m, in \u001b[0;36mcoerce_to_runnable\u001b[1;34m(thing)\u001b[0m\n\u001b[0;32m   5510\u001b[0m                 \u001b[38;5;28;01mreturn\u001b[39;00m attr(\n\u001b[0;32m   5511\u001b[0m                     \u001b[38;5;241m*\u001b[39margs,\n\u001b[0;32m   5512\u001b[0m                     config\u001b[38;5;241m=\u001b[39mmerge_configs(\n\u001b[1;32m   (...)\u001b[0m\n\u001b[0;32m   5515\u001b[0m                     \u001b[38;5;241m*\u001b[39m\u001b[38;5;241m*\u001b[39mkwargs,\n\u001b[0;32m   5516\u001b[0m                 )\n\u001b[0;32m   5518\u001b[0m         \u001b[38;5;28;01mreturn\u001b[39;00m wrapper\n\u001b[1;32m-> 5520\u001b[0m \u001b[38;5;28;01mreturn\u001b[39;00m attr\n",
      "\u001b[1;31mTypeError\u001b[0m: Expected a Runnable, callable or dict.Instead got an unsupported type: <class 'list'>"
     ]
    }
   ],
   "source": [
    "# Example showing extracted entities (nodes) \n",
    "\n",
    "extract_entities(graph_documents[0].nodes).invoke({ \"question\": \"Who is Marie Curie?\"}) # Output: [Marie Curie(Person)]"
   ]
  },
  {
   "cell_type": "code",
   "execution_count": null,
   "metadata": {},
   "outputs": [],
   "source": [
    "def _combine_relations(relations): \n",
    "    return \"\\n\".join(map(repr, relations)) \n",
    "\n",
    "ANSWER_PROMPT = ( \"The original question is given below.\" \"This question has been used to retrieve information from a knowledge graph.\" \"The matching triples are shown below.\" \"Use the information in the triples to answer the original question.\\n\\n\" \"Original Question: {question}\\n\\n\" \"Knowledge Graph Triples:\\n{context}\\n\\n\" \"Response:\" ) \n",
    "chain = ( { \"question\": RunnablePassthrough() } # extract_entities is provided by the Cassandra knowledge graph library\n",
    "                                                # and extracts entitise as shown above.  \n",
    "        | RunnablePassthrough.assign(entities = extract_entities(llm))  \n",
    "        | RunnablePassthrough.assign( # graph_store.as_runnable() is provided by the CassandraGraphStore \n",
    "                                    # and takes one or more entities and retrieves the relevant sub-graph(s). \n",
    "            triples = itemgetter(\"entities\") | graph_store.as_runnable()) | RunnablePassthrough.assign( context = itemgetter(\"triples\") | RunnableLambda(_combine_relations)) | ChatPromptTemplate.from_messages([ANSWER_PROMPT]) | llm )"
   ]
  },
  {
   "cell_type": "code",
   "execution_count": null,
   "metadata": {},
   "outputs": [],
   "source": [
    "chain.invoke(\"Who is Marie Curie?\") \n",
    "# Output AIMessage( content=\"Marie Curie is a Polish and French chemist, physicist, and professor who \" \"researched radioactivity. She was married to Pierre Curie and has worked at \" \"the University of Paris. She is also a recipient of the Nobel Prize.\", response_metadata={ 'token_usage': {'completion_tokens': 47, 'prompt_tokens': 213, 'total_tokens': 260}, 'model_name': 'gpt-4', ... } )"
   ]
  },
  {
   "cell_type": "markdown",
   "metadata": {},
   "source": [
    "### 이건 그냥 예제 그 자체"
   ]
  },
  {
   "cell_type": "code",
   "execution_count": 26,
   "metadata": {},
   "outputs": [
    {
     "ename": "TypeError",
     "evalue": "'Node' object is not subscriptable",
     "output_type": "error",
     "traceback": [
      "\u001b[1;31m---------------------------------------------------------------------------\u001b[0m",
      "\u001b[1;31mTypeError\u001b[0m                                 Traceback (most recent call last)",
      "Cell \u001b[1;32mIn[26], line 45\u001b[0m\n\u001b[0;32m     43\u001b[0m \u001b[38;5;66;03m# 예시 질문\u001b[39;00m\n\u001b[0;32m     44\u001b[0m question \u001b[38;5;241m=\u001b[39m \u001b[38;5;124m\"\u001b[39m\u001b[38;5;124mWhat Nobel Prizes did Marie Curie win?\u001b[39m\u001b[38;5;124m\"\u001b[39m\n\u001b[1;32m---> 45\u001b[0m answer \u001b[38;5;241m=\u001b[39m \u001b[43mask_question_using_graph\u001b[49m\u001b[43m(\u001b[49m\u001b[43mllm\u001b[49m\u001b[43m,\u001b[49m\u001b[43m \u001b[49m\u001b[43mquestion\u001b[49m\u001b[43m,\u001b[49m\u001b[43m \u001b[49m\u001b[43mgraph_documents\u001b[49m\u001b[43m)\u001b[49m\n\u001b[0;32m     47\u001b[0m \u001b[38;5;28mprint\u001b[39m(answer)\n",
      "Cell \u001b[1;32mIn[26], line 29\u001b[0m, in \u001b[0;36mask_question_using_graph\u001b[1;34m(llm, question, graph_documents)\u001b[0m\n\u001b[0;32m     26\u001b[0m \u001b[38;5;28;01mfor\u001b[39;00m graph_doc \u001b[38;5;129;01min\u001b[39;00m graph_documents:\n\u001b[0;32m     27\u001b[0m     \u001b[38;5;66;03m# 노드와 관계를 텍스트로 변환\u001b[39;00m\n\u001b[0;32m     28\u001b[0m     \u001b[38;5;28;01mfor\u001b[39;00m node \u001b[38;5;129;01min\u001b[39;00m graph_doc\u001b[38;5;241m.\u001b[39mnodes:\n\u001b[1;32m---> 29\u001b[0m         graph_info\u001b[38;5;241m.\u001b[39mappend(\u001b[38;5;124mf\u001b[39m\u001b[38;5;124m\"\u001b[39m\u001b[38;5;124mEntity: \u001b[39m\u001b[38;5;132;01m{\u001b[39;00m\u001b[43mnode\u001b[49m\u001b[43m[\u001b[49m\u001b[38;5;124;43m'\u001b[39;49m\u001b[38;5;124;43mentity\u001b[39;49m\u001b[38;5;124;43m'\u001b[39;49m\u001b[43m]\u001b[49m\u001b[38;5;132;01m}\u001b[39;00m\u001b[38;5;124m (Type: \u001b[39m\u001b[38;5;132;01m{\u001b[39;00mnode[\u001b[38;5;124m'\u001b[39m\u001b[38;5;124mtype\u001b[39m\u001b[38;5;124m'\u001b[39m]\u001b[38;5;132;01m}\u001b[39;00m\u001b[38;5;124m)\u001b[39m\u001b[38;5;124m\"\u001b[39m)\n\u001b[0;32m     31\u001b[0m     \u001b[38;5;28;01mfor\u001b[39;00m rel \u001b[38;5;129;01min\u001b[39;00m graph_doc\u001b[38;5;241m.\u001b[39mrelationships:\n\u001b[0;32m     32\u001b[0m         graph_info\u001b[38;5;241m.\u001b[39mappend(\u001b[38;5;124mf\u001b[39m\u001b[38;5;124m\"\u001b[39m\u001b[38;5;124mRelationship: \u001b[39m\u001b[38;5;132;01m{\u001b[39;00mrel[\u001b[38;5;124m'\u001b[39m\u001b[38;5;124mfrom\u001b[39m\u001b[38;5;124m'\u001b[39m]\u001b[38;5;132;01m}\u001b[39;00m\u001b[38;5;124m - \u001b[39m\u001b[38;5;132;01m{\u001b[39;00mrel[\u001b[38;5;124m'\u001b[39m\u001b[38;5;124mrelationship\u001b[39m\u001b[38;5;124m'\u001b[39m]\u001b[38;5;132;01m}\u001b[39;00m\u001b[38;5;124m - \u001b[39m\u001b[38;5;132;01m{\u001b[39;00mrel[\u001b[38;5;124m'\u001b[39m\u001b[38;5;124mto\u001b[39m\u001b[38;5;124m'\u001b[39m]\u001b[38;5;132;01m}\u001b[39;00m\u001b[38;5;124m\"\u001b[39m)\n",
      "\u001b[1;31mTypeError\u001b[0m: 'Node' object is not subscriptable"
     ]
    }
   ],
   "source": [
    "from langchain_experimental.graph_transformers import LLMGraphTransformer\n",
    "from langchain_openai import ChatOpenAI\n",
    "from langchain.schema import Document\n",
    "import openai\n",
    "\n",
    "# LLM과 지식 그래프 변환기 초기화\n",
    "llm = ChatOpenAI(temperature=0, model=\"gpt-4\")\n",
    "llm_transformer = LLMGraphTransformer(llm=llm)\n",
    "\n",
    "# 문서 생성\n",
    "text = \"\"\"Marie Curie, was a Polish and naturalised-French physicist and chemist who conducted \n",
    "pioneering research on radioactivity. She was the first woman to win a Nobel Prize, the first \n",
    "person to win a Nobel Prize twice, and the only person to win a Nobel Prize in two scientific fields. \n",
    "Her husband, Pierre Curie, was a co-winner of her first Nobel Prize, making them the first-ever \n",
    "married couple to win the Nobel Prize and launching the Curie family legacy of five Nobel Prizes. \n",
    "She was, in 1906, the first woman to become a professor at the University of Paris.\"\"\"\n",
    "documents = [Document(page_content=text)]\n",
    "\n",
    "# 지식 그래프로 변환\n",
    "graph_documents = llm_transformer.convert_to_graph_documents(documents)\n",
    "\n",
    "# 지식 그래프를 바탕으로 Language Model에게 질문과 함께 전달\n",
    "def ask_question_using_graph(llm, question, graph_documents):\n",
    "    graph_info = []\n",
    "    \n",
    "    for graph_doc in graph_documents:\n",
    "        # 노드와 관계를 텍스트로 변환\n",
    "        for node in graph_doc.nodes:\n",
    "            graph_info.append(f\"Entity: {node['entity']} (Type: {node['type']})\")\n",
    "        \n",
    "        for rel in graph_doc.relationships:\n",
    "            graph_info.append(f\"Relationship: {rel['from']} - {rel['relationship']} - {rel['to']}\")\n",
    "    \n",
    "    # 그래프 정보를 결합\n",
    "    graph_info_text = \"\\n\".join(graph_info)\n",
    "    \n",
    "    # 프롬프트 생성\n",
    "    prompt = f\"The following is a knowledge graph based on the provided text:\\n\\n{graph_info_text}\\n\\nQuestion: {question}\\nAnswer:\"\n",
    "\n",
    "    response = llm(prompt)\n",
    "    return response.strip()\n",
    "\n",
    "# 예시 질문\n",
    "question = \"What Nobel Prizes did Marie Curie win?\"\n",
    "answer = ask_question_using_graph(llm, question, graph_documents)\n",
    "\n",
    "print(answer)\n"
   ]
  },
  {
   "cell_type": "code",
   "execution_count": null,
   "metadata": {},
   "outputs": [],
   "source": []
  }
 ],
 "metadata": {
  "kernelspec": {
   "display_name": "venv",
   "language": "python",
   "name": "python3"
  },
  "language_info": {
   "codemirror_mode": {
    "name": "ipython",
    "version": 3
   },
   "file_extension": ".py",
   "mimetype": "text/x-python",
   "name": "python",
   "nbconvert_exporter": "python",
   "pygments_lexer": "ipython3",
   "version": "3.10.10"
  }
 },
 "nbformat": 4,
 "nbformat_minor": 2
}
